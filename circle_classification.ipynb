{
 "cells": [
  {
   "cell_type": "markdown",
   "metadata": {},
   "source": [
    "# Circle Classification Model\n",
    "\n",
    "This notebook generates data points that fall roughly on the unit circle and classifies them based on a line defined by the parameter theta."
   ]
  },
  {
   "cell_type": "code",
   "execution_count": null,
   "metadata": {},
   "source": [
    "import numpy as np\n",
    "import pandas as pd\n",
    "import matplotlib.pyplot as plt\n",
    "from matplotlib.lines import Line2D # Needed for custom legend"
   ]
  },
  {
   "cell_type": "code",
   "execution_count": null,
   "metadata": {},
   "source": [
    "# Global parameter theta (angle in radians)\n",
    "theta = np.pi/4  # 45 degrees as default"
   ]
  },
  {
   "cell_type": "code",
   "execution_count": null,
   "metadata": {},
   "source": [
    "def generate_circle_data(n_samples, sigma=0.1):\n",
    "    \"\"\"\n",
    "    Generates synthetic binary classification data where points fall roughly on the unit circle.\n",
    "    Classification is determined by whether points fall above or below a line with angle theta.\n",
    "    \n",
    "    Args:\n",
    "        n_samples (int): Total number of data points to generate.\n",
    "        sigma (float): Standard deviation of the normal noise added to the unit circle.\n",
    "        \n",
    "    Returns:\n",
    "        pd.DataFrame: DataFrame containing features (x1, x2) and labels (y).\n",
    "    \"\"\"\n",
    "    # Generate random angles uniformly distributed from 0 to 2π\n",
    "    theta_r = np.random.uniform(0, 2*np.pi, n_samples)\n",
    "    \n",
    "    # Generate points on the unit circle\n",
    "    x1 = np.cos(theta_r)\n",
    "    x2 = np.sin(theta_r)\n",
    "    \n",
    "    # Add random noise\n",
    "    epsilon = np.random.normal(0, sigma, size=(n_samples, 2))\n",
    "    \n",
    "    # Create the data points with noise\n",
    "    X = np.column_stack([x1, x2]) + epsilon\n",
    "    \n",
    "    # Determine labels based on the line with angle theta\n",
    "    # The line equation is: x2 = tan(theta) * x1\n",
    "    # Points above the line: x2 > tan(theta) * x1\n",
    "    slope = np.tan(theta)\n",
    "    y = (X[:, 1] > slope * X[:, 0]).astype(int)\n",
    "    \n",
    "    # Create Pandas DataFrame\n",
    "    df = pd.DataFrame({\n",
    "        'x1': X[:, 0],\n",
    "        'x2': X[:, 1],\n",
    "        'y': y\n",
    "    })\n",
    "    \n",
    "    return df"
   ]
  },
  {
   "cell_type": "code",
   "execution_count": null,
   "metadata": {},
   "source": [
    "# --- Example Usage ---\n",
    "N_SAMPLES = 1000\n",
    "SIGMA = 0.1\n",
    "\n",
    "# Generate the data using the function\n",
    "circle_data = generate_circle_data(N_SAMPLES, SIGMA)\n",
    "\n",
    "# --- Display Sample Output ---\n",
    "print(\"Generated Data Head:\")\n",
    "print(circle_data.head())\n",
    "print(f\"\\nTotal samples generated: {len(circle_data)}\")\n",
    "print(\"\\nValue Counts for Labels (y):\")\n",
    "print(circle_data['y'].value_counts(normalize=True))"
   ]
  },
  {
   "cell_type": "code",
   "execution_count": null,
   "metadata": {},
   "source": [
    "# --- Visualize the Data using Matplotlib ---\n",
    "fig, ax = plt.subplots(figsize=(10, 8))\n",
    "\n",
    "# Define colors based on label\n",
    "color_map = {\n",
    "    0: 'skyblue',\n",
    "    1: 'firebrick'\n",
    "}\n",
    "\n",
    "# Use a consistent marker\n",
    "marker = 'o'\n",
    "\n",
    "# Scatter plot points by label\n",
    "for label_val, group_df in circle_data.groupby('y'):\n",
    "    color = color_map[label_val]\n",
    "    ax.scatter(group_df['x1'], group_df['x2'],\n",
    "               c=color,        # Use the color from the map\n",
    "               marker=marker,  # Use consistent marker\n",
    "               s=50, alpha=0.7) # Adjust size and transparency\n",
    "\n",
    "# Add titles and labels\n",
    "ax.set_title(f'Circle Classification Data (theta={theta:.2f} radians, {theta*180/np.pi:.1f} degrees)')\n",
    "ax.set_xlabel('Feature x1')\n",
    "ax.set_ylabel('Feature x2')\n",
    "\n",
    "# Add grid\n",
    "ax.grid(True, linestyle='--', alpha=0.6)\n",
    "\n",
    "# Plot the decision boundary line\n",
    "# Line with angle theta passing through origin\n",
    "x_vals = np.array([-1.5, 1.5])\n",
    "y_vals = np.tan(theta) * x_vals\n",
    "ax.plot(x_vals, y_vals, color='black', linestyle='--', label='Decision Boundary')\n",
    "\n",
    "# Plot the unit circle for reference\n",
    "circle = plt.Circle((0, 0), 1, fill=False, color='gray', linestyle='-', linewidth=1)\n",
    "ax.add_patch(circle)\n",
    "\n",
    "# Set equal aspect ratio to make the circle look circular\n",
    "ax.set_aspect('equal')\n",
    "\n",
    "# Set axis limits\n",
    "ax.set_xlim(-1.5, 1.5)\n",
    "ax.set_ylim(-1.5, 1.5)\n",
    "\n",
    "# Create a custom legend manually for clarity\n",
    "legend_elements = [\n",
    "    Line2D([0], [0], marker=marker, color='w', label='Label 0', markerfacecolor=color_map[0], markersize=8),\n",
    "    Line2D([0], [0], marker=marker, color='w', label='Label 1', markerfacecolor=color_map[1], markersize=8),\n",
    "    Line2D([0], [0], color='black', lw=2, linestyle='--', label='Decision Boundary (theta)'),\n",
    "    Line2D([0], [0], color='gray', lw=1, linestyle='-', label='Unit Circle')\n",
    "]\n",
    "ax.legend(handles=legend_elements, title='Legend', loc='best')\n",
    "\n",
    "# Show the plot\n",
    "plt.show()"
   ]
  },
  {
   "cell_type": "markdown",
   "metadata": {},
   "source": [
    "## Experimenting with Different Theta Values\n",
    "\n",
    "You can change the global `theta` parameter and re-run the cells to see how the decision boundary changes."
   ]
  },
  {
   "cell_type": "code",
   "execution_count": null,
   "metadata": {},
   "source": [
    "# Try a different theta value\n",
    "theta = np.pi/6  # 30 degrees\n",
    "\n",
    "# Generate new data\n",
    "circle_data = generate_circle_data(N_SAMPLES, SIGMA)\n",
    "\n",
    "# Re-run the visualization cell above to see the new plot"
   ]
  }
 ],
 "metadata": {
  "kernelspec": {
   "display_name": "Python 3",
   "language": "python",
   "name": "python3"
  },
  "language_info": {
   "codemirror_mode": {
    "name": "ipython",
    "version": 3
   },
   "file_extension": ".py",
   "mimetype": "text/x-python",
   "name": "python",
   "nbconvert_exporter": "python",
   "pygments_lexer": "ipython3",
   "version": "3.8.10"
  }
 },
 "nbformat": 4,
 "nbformat_minor": 4
}